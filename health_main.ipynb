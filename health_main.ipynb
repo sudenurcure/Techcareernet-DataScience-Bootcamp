{
 "cells": [
  {
   "cell_type": "markdown",
   "id": "f1649ec1-0740-4986-a203-cb1b4f6f9962",
   "metadata": {},
   "source": [
    "# ANALYSIS OF HEALTH DATA"
   ]
  },
  {
   "cell_type": "markdown",
   "id": "3935c0ad-f37f-4fe6-8ecf-b3907bfa3543",
   "metadata": {
    "tags": []
   },
   "source": [
    "## Initialize"
   ]
  },
  {
   "cell_type": "code",
   "execution_count": 1,
   "id": "47288354-013d-481e-bc57-7d13934de12d",
   "metadata": {
    "tags": []
   },
   "outputs": [],
   "source": [
    "import pandas as pd\n",
    "import numpy as np\n",
    "import matplotlib.pyplot as plt\n",
    "import seaborn as sns\n",
    "from sklearn.preprocessing import OrdinalEncoder"
   ]
  },
  {
   "cell_type": "code",
   "execution_count": 2,
   "id": "961b920b-20be-4339-bbbb-c5b9d2117a0d",
   "metadata": {
    "tags": []
   },
   "outputs": [],
   "source": [
    "data = pd.read_csv(\"ntrarogyaseva.csv\").iloc[:,1:]"
   ]
  },
  {
   "cell_type": "markdown",
   "id": "cff41a4c-e2bb-4872-938a-51b543cd2fb9",
   "metadata": {
    "tags": []
   },
   "source": [
    "## Inspect Document"
   ]
  },
  {
   "cell_type": "code",
   "execution_count": 3,
   "id": "e535d0da-2788-4d31-9994-64d098650d46",
   "metadata": {
    "tags": []
   },
   "outputs": [
    {
     "data": {
      "text/html": [
       "<div>\n",
       "<style scoped>\n",
       "    .dataframe tbody tr th:only-of-type {\n",
       "        vertical-align: middle;\n",
       "    }\n",
       "\n",
       "    .dataframe tbody tr th {\n",
       "        vertical-align: top;\n",
       "    }\n",
       "\n",
       "    .dataframe thead th {\n",
       "        text-align: right;\n",
       "    }\n",
       "</style>\n",
       "<table border=\"1\" class=\"dataframe\">\n",
       "  <thead>\n",
       "    <tr style=\"text-align: right;\">\n",
       "      <th></th>\n",
       "      <th>AGE</th>\n",
       "      <th>SEX</th>\n",
       "      <th>CASTE_NAME</th>\n",
       "      <th>CATEGORY_CODE</th>\n",
       "      <th>CATEGORY_NAME</th>\n",
       "      <th>SURGERY_CODE</th>\n",
       "      <th>SURGERY</th>\n",
       "      <th>VILLAGE</th>\n",
       "      <th>MANDAL_NAME</th>\n",
       "      <th>DISTRICT_NAME</th>\n",
       "      <th>...</th>\n",
       "      <th>CLAIM_AMOUNT</th>\n",
       "      <th>HOSP_NAME</th>\n",
       "      <th>HOSP_TYPE</th>\n",
       "      <th>HOSP_LOCATION</th>\n",
       "      <th>HOSP_DISTRICT</th>\n",
       "      <th>SURGERY_DATE</th>\n",
       "      <th>DISCHARGE_DATE</th>\n",
       "      <th>Mortality Y / N</th>\n",
       "      <th>MORTALITY_DATE</th>\n",
       "      <th>SRC_REGISTRATION</th>\n",
       "    </tr>\n",
       "  </thead>\n",
       "  <tbody>\n",
       "    <tr>\n",
       "      <th>0</th>\n",
       "      <td>56</td>\n",
       "      <td>Female</td>\n",
       "      <td>BC</td>\n",
       "      <td>M6</td>\n",
       "      <td>NEPHROLOGY</td>\n",
       "      <td>M6.5</td>\n",
       "      <td>Maintenance Hemodialysis For Crf</td>\n",
       "      <td>Lolugu</td>\n",
       "      <td>Ponduru</td>\n",
       "      <td>Srikakulam</td>\n",
       "      <td>...</td>\n",
       "      <td>11000</td>\n",
       "      <td>Rims Govt. General Hospital, Srikakulam</td>\n",
       "      <td>G</td>\n",
       "      <td>SRIKAKULAM</td>\n",
       "      <td>Srikakulam</td>\n",
       "      <td>06/08/2013 00:00:00</td>\n",
       "      <td>07/09/2013 00:00:00</td>\n",
       "      <td>NO</td>\n",
       "      <td>NaN</td>\n",
       "      <td>D</td>\n",
       "    </tr>\n",
       "    <tr>\n",
       "      <th>1</th>\n",
       "      <td>37</td>\n",
       "      <td>Male</td>\n",
       "      <td>BC</td>\n",
       "      <td>M6</td>\n",
       "      <td>NEPHROLOGY</td>\n",
       "      <td>M6.5</td>\n",
       "      <td>Maintenance Hemodialysis For Crf</td>\n",
       "      <td>Borivanka</td>\n",
       "      <td>Kaviti</td>\n",
       "      <td>Srikakulam</td>\n",
       "      <td>...</td>\n",
       "      <td>11000</td>\n",
       "      <td>Rims Govt. General Hospital, Srikakulam</td>\n",
       "      <td>G</td>\n",
       "      <td>SRIKAKULAM</td>\n",
       "      <td>Srikakulam</td>\n",
       "      <td>08/08/2013 00:00:00</td>\n",
       "      <td>09/09/2013 00:00:00</td>\n",
       "      <td>NO</td>\n",
       "      <td>NaN</td>\n",
       "      <td>D</td>\n",
       "    </tr>\n",
       "    <tr>\n",
       "      <th>2</th>\n",
       "      <td>50</td>\n",
       "      <td>Male</td>\n",
       "      <td>BC</td>\n",
       "      <td>M6</td>\n",
       "      <td>NEPHROLOGY</td>\n",
       "      <td>M6.5</td>\n",
       "      <td>Maintenance Hemodialysis For Crf</td>\n",
       "      <td>Kapasakuddi</td>\n",
       "      <td>Kaviti</td>\n",
       "      <td>Srikakulam</td>\n",
       "      <td>...</td>\n",
       "      <td>11500</td>\n",
       "      <td>Rims Govt. General Hospital, Srikakulam</td>\n",
       "      <td>G</td>\n",
       "      <td>SRIKAKULAM</td>\n",
       "      <td>Srikakulam</td>\n",
       "      <td>15/08/2013 00:00:00</td>\n",
       "      <td>18/10/2013 00:00:00</td>\n",
       "      <td>NO</td>\n",
       "      <td>NaN</td>\n",
       "      <td>D</td>\n",
       "    </tr>\n",
       "    <tr>\n",
       "      <th>3</th>\n",
       "      <td>45</td>\n",
       "      <td>Male</td>\n",
       "      <td>BC</td>\n",
       "      <td>M6</td>\n",
       "      <td>NEPHROLOGY</td>\n",
       "      <td>M6.5</td>\n",
       "      <td>Maintenance Hemodialysis For Crf</td>\n",
       "      <td>Telikipenta</td>\n",
       "      <td>Sarubujjili</td>\n",
       "      <td>Srikakulam</td>\n",
       "      <td>...</td>\n",
       "      <td>11000</td>\n",
       "      <td>Rims Govt. General Hospital, Srikakulam</td>\n",
       "      <td>G</td>\n",
       "      <td>SRIKAKULAM</td>\n",
       "      <td>Srikakulam</td>\n",
       "      <td>24/08/2013 00:00:00</td>\n",
       "      <td>27/09/2013 00:00:00</td>\n",
       "      <td>NO</td>\n",
       "      <td>NaN</td>\n",
       "      <td>D</td>\n",
       "    </tr>\n",
       "    <tr>\n",
       "      <th>4</th>\n",
       "      <td>54</td>\n",
       "      <td>Male</td>\n",
       "      <td>BC</td>\n",
       "      <td>M6</td>\n",
       "      <td>NEPHROLOGY</td>\n",
       "      <td>M6.5</td>\n",
       "      <td>Maintenance Hemodialysis For Crf</td>\n",
       "      <td>Thandemvalasa</td>\n",
       "      <td>Srikakulam</td>\n",
       "      <td>Srikakulam</td>\n",
       "      <td>...</td>\n",
       "      <td>11000</td>\n",
       "      <td>Rims Govt. General Hospital, Srikakulam</td>\n",
       "      <td>G</td>\n",
       "      <td>SRIKAKULAM</td>\n",
       "      <td>Srikakulam</td>\n",
       "      <td>31/08/2013 00:00:00</td>\n",
       "      <td>02/10/2013 00:00:00</td>\n",
       "      <td>NO</td>\n",
       "      <td>NaN</td>\n",
       "      <td>D</td>\n",
       "    </tr>\n",
       "  </tbody>\n",
       "</table>\n",
       "<p>5 rows × 23 columns</p>\n",
       "</div>"
      ],
      "text/plain": [
       "   AGE     SEX CASTE_NAME CATEGORY_CODE CATEGORY_NAME SURGERY_CODE   \n",
       "0   56  Female         BC            M6    NEPHROLOGY         M6.5  \\\n",
       "1   37    Male         BC            M6    NEPHROLOGY         M6.5   \n",
       "2   50    Male         BC            M6    NEPHROLOGY         M6.5   \n",
       "3   45    Male         BC            M6    NEPHROLOGY         M6.5   \n",
       "4   54    Male         BC            M6    NEPHROLOGY         M6.5   \n",
       "\n",
       "                            SURGERY        VILLAGE  MANDAL_NAME DISTRICT_NAME   \n",
       "0  Maintenance Hemodialysis For Crf         Lolugu      Ponduru    Srikakulam  \\\n",
       "1  Maintenance Hemodialysis For Crf      Borivanka       Kaviti    Srikakulam   \n",
       "2  Maintenance Hemodialysis For Crf    Kapasakuddi       Kaviti    Srikakulam   \n",
       "3  Maintenance Hemodialysis For Crf    Telikipenta  Sarubujjili    Srikakulam   \n",
       "4  Maintenance Hemodialysis For Crf  Thandemvalasa   Srikakulam    Srikakulam   \n",
       "\n",
       "   ... CLAIM_AMOUNT                                HOSP_NAME HOSP_TYPE   \n",
       "0  ...        11000  Rims Govt. General Hospital, Srikakulam         G  \\\n",
       "1  ...        11000  Rims Govt. General Hospital, Srikakulam         G   \n",
       "2  ...        11500  Rims Govt. General Hospital, Srikakulam         G   \n",
       "3  ...        11000  Rims Govt. General Hospital, Srikakulam         G   \n",
       "4  ...        11000  Rims Govt. General Hospital, Srikakulam         G   \n",
       "\n",
       "   HOSP_LOCATION HOSP_DISTRICT         SURGERY_DATE       DISCHARGE_DATE   \n",
       "0     SRIKAKULAM    Srikakulam  06/08/2013 00:00:00  07/09/2013 00:00:00  \\\n",
       "1     SRIKAKULAM    Srikakulam  08/08/2013 00:00:00  09/09/2013 00:00:00   \n",
       "2     SRIKAKULAM    Srikakulam  15/08/2013 00:00:00  18/10/2013 00:00:00   \n",
       "3     SRIKAKULAM    Srikakulam  24/08/2013 00:00:00  27/09/2013 00:00:00   \n",
       "4     SRIKAKULAM    Srikakulam  31/08/2013 00:00:00  02/10/2013 00:00:00   \n",
       "\n",
       "  Mortality Y / N MORTALITY_DATE SRC_REGISTRATION  \n",
       "0              NO            NaN                D  \n",
       "1              NO            NaN                D  \n",
       "2              NO            NaN                D  \n",
       "3              NO            NaN                D  \n",
       "4              NO            NaN                D  \n",
       "\n",
       "[5 rows x 23 columns]"
      ]
     },
     "execution_count": 3,
     "metadata": {},
     "output_type": "execute_result"
    }
   ],
   "source": [
    "data.head()"
   ]
  },
  {
   "cell_type": "code",
   "execution_count": 4,
   "id": "902eef99-c038-42ed-b866-bdd1d1474e0f",
   "metadata": {
    "tags": []
   },
   "outputs": [
    {
     "data": {
      "text/plain": [
       "Index(['AGE', 'SEX', 'CASTE_NAME', 'CATEGORY_CODE', 'CATEGORY_NAME',\n",
       "       'SURGERY_CODE', 'SURGERY', 'VILLAGE', 'MANDAL_NAME', 'DISTRICT_NAME',\n",
       "       'PREAUTH_DATE', 'PREAUTH_AMT', 'CLAIM_DATE', 'CLAIM_AMOUNT',\n",
       "       'HOSP_NAME', 'HOSP_TYPE', 'HOSP_LOCATION', 'HOSP_DISTRICT',\n",
       "       'SURGERY_DATE', 'DISCHARGE_DATE', 'Mortality Y / N', 'MORTALITY_DATE',\n",
       "       'SRC_REGISTRATION'],\n",
       "      dtype='object')"
      ]
     },
     "execution_count": 4,
     "metadata": {},
     "output_type": "execute_result"
    }
   ],
   "source": [
    "c_names = data.columns\n",
    "c_names"
   ]
  },
  {
   "cell_type": "code",
   "execution_count": 5,
   "id": "7f0cddf2-09fd-46a9-941e-b8a896a36e50",
   "metadata": {
    "tags": []
   },
   "outputs": [
    {
     "data": {
      "text/plain": [
       "AGE                  int64\n",
       "SEX                 object\n",
       "CASTE_NAME          object\n",
       "CATEGORY_CODE       object\n",
       "CATEGORY_NAME       object\n",
       "SURGERY_CODE        object\n",
       "SURGERY             object\n",
       "VILLAGE             object\n",
       "MANDAL_NAME         object\n",
       "DISTRICT_NAME       object\n",
       "PREAUTH_DATE        object\n",
       "PREAUTH_AMT          int64\n",
       "CLAIM_DATE          object\n",
       "CLAIM_AMOUNT         int64\n",
       "HOSP_NAME           object\n",
       "HOSP_TYPE           object\n",
       "HOSP_LOCATION       object\n",
       "HOSP_DISTRICT       object\n",
       "SURGERY_DATE        object\n",
       "DISCHARGE_DATE      object\n",
       "Mortality Y / N     object\n",
       "MORTALITY_DATE      object\n",
       "SRC_REGISTRATION    object\n",
       "dtype: object"
      ]
     },
     "execution_count": 5,
     "metadata": {},
     "output_type": "execute_result"
    }
   ],
   "source": [
    "data.dtypes # too many object class, should be coded"
   ]
  },
  {
   "cell_type": "code",
   "execution_count": 6,
   "id": "4bc33565-bd07-47ab-8e2f-f0b87725824c",
   "metadata": {
    "tags": []
   },
   "outputs": [],
   "source": [
    "tbdropped = [\"CATEGORY_CODE\",\"SURGERY_CODE\",\"VILLAGE\",\"MANDAL_NAME\",\"DISTRICT_NAME\",\"HOSP_DISTRICT\",\"Mortality Y / N\",\"MORTALITY_DATE\",\"SRC_REGISTRATION\",\"DISCHARGE_DATE\"]"
   ]
  },
  {
   "cell_type": "code",
   "execution_count": 7,
   "id": "3df318eb-1eea-4724-a9a1-4290ba7400dd",
   "metadata": {},
   "outputs": [
    {
     "data": {
      "text/plain": [
       "'\\nOrdinal encode:\\n\\nSEX\\nCASTE_NAME\\nCATEGORY\\nSURGERY\\nHOSP_NAME\\nHOSP_TYPE\\n'"
      ]
     },
     "execution_count": 7,
     "metadata": {},
     "output_type": "execute_result"
    }
   ],
   "source": [
    "'''\n",
    "Ordinal encode:\n",
    "\n",
    "SEX\n",
    "CASTE_NAME\n",
    "CATEGORY\n",
    "SURGERY\n",
    "HOSP_NAME\n",
    "HOSP_TYPE\n",
    "'''"
   ]
  },
  {
   "cell_type": "code",
   "execution_count": 8,
   "id": "3d7f52fd-7b7c-4667-88db-72c586d59512",
   "metadata": {},
   "outputs": [
    {
     "data": {
      "text/plain": [
       "'\\nMake groups:\\n\\nSurgery with category,\\nHosp_name with hosp type\\n'"
      ]
     },
     "execution_count": 8,
     "metadata": {},
     "output_type": "execute_result"
    }
   ],
   "source": [
    "'''\n",
    "Make groups:\n",
    "\n",
    "Surgery with category,\n",
    "Hosp_name with hosp type\n",
    "'''"
   ]
  },
  {
   "cell_type": "code",
   "execution_count": 9,
   "id": "ab7f852c-f192-444d-a9e6-81887c5ed93f",
   "metadata": {
    "tags": []
   },
   "outputs": [
    {
     "data": {
      "text/plain": [
       "AGE                      0\n",
       "SEX                      0\n",
       "CASTE_NAME               0\n",
       "CATEGORY_CODE            0\n",
       "CATEGORY_NAME            0\n",
       "SURGERY_CODE             0\n",
       "SURGERY                  0\n",
       "VILLAGE                  0\n",
       "MANDAL_NAME              0\n",
       "DISTRICT_NAME            0\n",
       "PREAUTH_DATE             0\n",
       "PREAUTH_AMT              0\n",
       "CLAIM_DATE               0\n",
       "CLAIM_AMOUNT             0\n",
       "HOSP_NAME                0\n",
       "HOSP_TYPE                0\n",
       "HOSP_LOCATION            0\n",
       "HOSP_DISTRICT            0\n",
       "SURGERY_DATE             0\n",
       "DISCHARGE_DATE        4560\n",
       "Mortality Y / N          0\n",
       "MORTALITY_DATE      469566\n",
       "SRC_REGISTRATION         0\n",
       "dtype: int64"
      ]
     },
     "execution_count": 9,
     "metadata": {},
     "output_type": "execute_result"
    }
   ],
   "source": [
    "data.isna().sum()"
   ]
  },
  {
   "cell_type": "code",
   "execution_count": 10,
   "id": "06562d2c-021a-4a0d-9082-134f08fd6eee",
   "metadata": {
    "tags": []
   },
   "outputs": [
    {
     "data": {
      "text/html": [
       "<div>\n",
       "<style scoped>\n",
       "    .dataframe tbody tr th:only-of-type {\n",
       "        vertical-align: middle;\n",
       "    }\n",
       "\n",
       "    .dataframe tbody tr th {\n",
       "        vertical-align: top;\n",
       "    }\n",
       "\n",
       "    .dataframe thead th {\n",
       "        text-align: right;\n",
       "    }\n",
       "</style>\n",
       "<table border=\"1\" class=\"dataframe\">\n",
       "  <thead>\n",
       "    <tr style=\"text-align: right;\">\n",
       "      <th></th>\n",
       "      <th>AGE</th>\n",
       "      <th>PREAUTH_AMT</th>\n",
       "      <th>CLAIM_AMOUNT</th>\n",
       "    </tr>\n",
       "  </thead>\n",
       "  <tbody>\n",
       "    <tr>\n",
       "      <th>count</th>\n",
       "      <td>479688.000000</td>\n",
       "      <td>479688.000000</td>\n",
       "      <td>479688.000000</td>\n",
       "    </tr>\n",
       "    <tr>\n",
       "      <th>mean</th>\n",
       "      <td>44.912264</td>\n",
       "      <td>30428.941698</td>\n",
       "      <td>27652.205861</td>\n",
       "    </tr>\n",
       "    <tr>\n",
       "      <th>std</th>\n",
       "      <td>18.961084</td>\n",
       "      <td>27441.592281</td>\n",
       "      <td>25951.706037</td>\n",
       "    </tr>\n",
       "    <tr>\n",
       "      <th>min</th>\n",
       "      <td>0.000000</td>\n",
       "      <td>5.000000</td>\n",
       "      <td>2.000000</td>\n",
       "    </tr>\n",
       "    <tr>\n",
       "      <th>25%</th>\n",
       "      <td>34.000000</td>\n",
       "      <td>12500.000000</td>\n",
       "      <td>12500.000000</td>\n",
       "    </tr>\n",
       "    <tr>\n",
       "      <th>50%</th>\n",
       "      <td>47.000000</td>\n",
       "      <td>25000.000000</td>\n",
       "      <td>23200.000000</td>\n",
       "    </tr>\n",
       "    <tr>\n",
       "      <th>75%</th>\n",
       "      <td>59.000000</td>\n",
       "      <td>35000.000000</td>\n",
       "      <td>30600.000000</td>\n",
       "    </tr>\n",
       "    <tr>\n",
       "      <th>max</th>\n",
       "      <td>107.000000</td>\n",
       "      <td>520000.000000</td>\n",
       "      <td>520000.000000</td>\n",
       "    </tr>\n",
       "  </tbody>\n",
       "</table>\n",
       "</div>"
      ],
      "text/plain": [
       "                 AGE    PREAUTH_AMT   CLAIM_AMOUNT\n",
       "count  479688.000000  479688.000000  479688.000000\n",
       "mean       44.912264   30428.941698   27652.205861\n",
       "std        18.961084   27441.592281   25951.706037\n",
       "min         0.000000       5.000000       2.000000\n",
       "25%        34.000000   12500.000000   12500.000000\n",
       "50%        47.000000   25000.000000   23200.000000\n",
       "75%        59.000000   35000.000000   30600.000000\n",
       "max       107.000000  520000.000000  520000.000000"
      ]
     },
     "execution_count": 10,
     "metadata": {},
     "output_type": "execute_result"
    }
   ],
   "source": [
    "data.describe()"
   ]
  },
  {
   "cell_type": "code",
   "execution_count": 11,
   "id": "78dd5d3e-5736-41cd-b2a1-a6b0f2f54c83",
   "metadata": {
    "tags": []
   },
   "outputs": [
    {
     "data": {
      "text/plain": [
       "(479688, 23)"
      ]
     },
     "execution_count": 11,
     "metadata": {},
     "output_type": "execute_result"
    }
   ],
   "source": [
    "data.shape"
   ]
  },
  {
   "cell_type": "markdown",
   "id": "2d4cf3de-2bfd-413b-b8a2-11b3b5034ad8",
   "metadata": {
    "tags": []
   },
   "source": [
    "## Clean Data"
   ]
  },
  {
   "cell_type": "code",
   "execution_count": 12,
   "id": "6832737f-7411-451d-a07e-d41e73191b23",
   "metadata": {
    "tags": []
   },
   "outputs": [],
   "source": [
    "clean_data = data.drop(columns = tbdropped)"
   ]
  },
  {
   "cell_type": "code",
   "execution_count": 13,
   "id": "801f2716-fb9a-4349-adc0-217e50e9fc56",
   "metadata": {
    "tags": []
   },
   "outputs": [
    {
     "data": {
      "text/html": [
       "<div>\n",
       "<style scoped>\n",
       "    .dataframe tbody tr th:only-of-type {\n",
       "        vertical-align: middle;\n",
       "    }\n",
       "\n",
       "    .dataframe tbody tr th {\n",
       "        vertical-align: top;\n",
       "    }\n",
       "\n",
       "    .dataframe thead th {\n",
       "        text-align: right;\n",
       "    }\n",
       "</style>\n",
       "<table border=\"1\" class=\"dataframe\">\n",
       "  <thead>\n",
       "    <tr style=\"text-align: right;\">\n",
       "      <th></th>\n",
       "      <th>AGE</th>\n",
       "      <th>SEX</th>\n",
       "      <th>CASTE_NAME</th>\n",
       "      <th>CATEGORY_NAME</th>\n",
       "      <th>SURGERY</th>\n",
       "      <th>PREAUTH_DATE</th>\n",
       "      <th>PREAUTH_AMT</th>\n",
       "      <th>CLAIM_DATE</th>\n",
       "      <th>CLAIM_AMOUNT</th>\n",
       "      <th>HOSP_NAME</th>\n",
       "      <th>HOSP_TYPE</th>\n",
       "      <th>HOSP_LOCATION</th>\n",
       "      <th>SURGERY_DATE</th>\n",
       "    </tr>\n",
       "  </thead>\n",
       "  <tbody>\n",
       "    <tr>\n",
       "      <th>0</th>\n",
       "      <td>56</td>\n",
       "      <td>Female</td>\n",
       "      <td>BC</td>\n",
       "      <td>NEPHROLOGY</td>\n",
       "      <td>Maintenance Hemodialysis For Crf</td>\n",
       "      <td>03/08/2013 20:38:48</td>\n",
       "      <td>12500</td>\n",
       "      <td>22/03/2017 20:25:18</td>\n",
       "      <td>11000</td>\n",
       "      <td>Rims Govt. General Hospital, Srikakulam</td>\n",
       "      <td>G</td>\n",
       "      <td>SRIKAKULAM</td>\n",
       "      <td>06/08/2013 00:00:00</td>\n",
       "    </tr>\n",
       "    <tr>\n",
       "      <th>1</th>\n",
       "      <td>37</td>\n",
       "      <td>Male</td>\n",
       "      <td>BC</td>\n",
       "      <td>NEPHROLOGY</td>\n",
       "      <td>Maintenance Hemodialysis For Crf</td>\n",
       "      <td>06/08/2013 07:26:15</td>\n",
       "      <td>12500</td>\n",
       "      <td>22/03/2017 20:25:18</td>\n",
       "      <td>11000</td>\n",
       "      <td>Rims Govt. General Hospital, Srikakulam</td>\n",
       "      <td>G</td>\n",
       "      <td>SRIKAKULAM</td>\n",
       "      <td>08/08/2013 00:00:00</td>\n",
       "    </tr>\n",
       "    <tr>\n",
       "      <th>2</th>\n",
       "      <td>50</td>\n",
       "      <td>Male</td>\n",
       "      <td>BC</td>\n",
       "      <td>NEPHROLOGY</td>\n",
       "      <td>Maintenance Hemodialysis For Crf</td>\n",
       "      <td>09/08/2013 18:30:50</td>\n",
       "      <td>12500</td>\n",
       "      <td>22/03/2017 20:25:18</td>\n",
       "      <td>11500</td>\n",
       "      <td>Rims Govt. General Hospital, Srikakulam</td>\n",
       "      <td>G</td>\n",
       "      <td>SRIKAKULAM</td>\n",
       "      <td>15/08/2013 00:00:00</td>\n",
       "    </tr>\n",
       "    <tr>\n",
       "      <th>3</th>\n",
       "      <td>45</td>\n",
       "      <td>Male</td>\n",
       "      <td>BC</td>\n",
       "      <td>NEPHROLOGY</td>\n",
       "      <td>Maintenance Hemodialysis For Crf</td>\n",
       "      <td>24/08/2013 19:37:41</td>\n",
       "      <td>12500</td>\n",
       "      <td>22/03/2017 20:25:18</td>\n",
       "      <td>11000</td>\n",
       "      <td>Rims Govt. General Hospital, Srikakulam</td>\n",
       "      <td>G</td>\n",
       "      <td>SRIKAKULAM</td>\n",
       "      <td>24/08/2013 00:00:00</td>\n",
       "    </tr>\n",
       "    <tr>\n",
       "      <th>4</th>\n",
       "      <td>54</td>\n",
       "      <td>Male</td>\n",
       "      <td>BC</td>\n",
       "      <td>NEPHROLOGY</td>\n",
       "      <td>Maintenance Hemodialysis For Crf</td>\n",
       "      <td>28/08/2013 17:03:07</td>\n",
       "      <td>12500</td>\n",
       "      <td>22/03/2017 20:25:19</td>\n",
       "      <td>11000</td>\n",
       "      <td>Rims Govt. General Hospital, Srikakulam</td>\n",
       "      <td>G</td>\n",
       "      <td>SRIKAKULAM</td>\n",
       "      <td>31/08/2013 00:00:00</td>\n",
       "    </tr>\n",
       "  </tbody>\n",
       "</table>\n",
       "</div>"
      ],
      "text/plain": [
       "   AGE     SEX CASTE_NAME CATEGORY_NAME                           SURGERY   \n",
       "0   56  Female         BC    NEPHROLOGY  Maintenance Hemodialysis For Crf  \\\n",
       "1   37    Male         BC    NEPHROLOGY  Maintenance Hemodialysis For Crf   \n",
       "2   50    Male         BC    NEPHROLOGY  Maintenance Hemodialysis For Crf   \n",
       "3   45    Male         BC    NEPHROLOGY  Maintenance Hemodialysis For Crf   \n",
       "4   54    Male         BC    NEPHROLOGY  Maintenance Hemodialysis For Crf   \n",
       "\n",
       "          PREAUTH_DATE  PREAUTH_AMT           CLAIM_DATE  CLAIM_AMOUNT   \n",
       "0  03/08/2013 20:38:48        12500  22/03/2017 20:25:18         11000  \\\n",
       "1  06/08/2013 07:26:15        12500  22/03/2017 20:25:18         11000   \n",
       "2  09/08/2013 18:30:50        12500  22/03/2017 20:25:18         11500   \n",
       "3  24/08/2013 19:37:41        12500  22/03/2017 20:25:18         11000   \n",
       "4  28/08/2013 17:03:07        12500  22/03/2017 20:25:19         11000   \n",
       "\n",
       "                                 HOSP_NAME HOSP_TYPE HOSP_LOCATION   \n",
       "0  Rims Govt. General Hospital, Srikakulam         G    SRIKAKULAM  \\\n",
       "1  Rims Govt. General Hospital, Srikakulam         G    SRIKAKULAM   \n",
       "2  Rims Govt. General Hospital, Srikakulam         G    SRIKAKULAM   \n",
       "3  Rims Govt. General Hospital, Srikakulam         G    SRIKAKULAM   \n",
       "4  Rims Govt. General Hospital, Srikakulam         G    SRIKAKULAM   \n",
       "\n",
       "          SURGERY_DATE  \n",
       "0  06/08/2013 00:00:00  \n",
       "1  08/08/2013 00:00:00  \n",
       "2  15/08/2013 00:00:00  \n",
       "3  24/08/2013 00:00:00  \n",
       "4  31/08/2013 00:00:00  "
      ]
     },
     "execution_count": 13,
     "metadata": {},
     "output_type": "execute_result"
    }
   ],
   "source": [
    "clean_data.head()"
   ]
  },
  {
   "cell_type": "code",
   "execution_count": 14,
   "id": "1febf799-8ddf-4bb6-a64f-b956424caca1",
   "metadata": {
    "tags": []
   },
   "outputs": [
    {
     "data": {
      "text/plain": [
       "AGE              0\n",
       "SEX              0\n",
       "CASTE_NAME       0\n",
       "CATEGORY_NAME    0\n",
       "SURGERY          0\n",
       "PREAUTH_DATE     0\n",
       "PREAUTH_AMT      0\n",
       "CLAIM_DATE       0\n",
       "CLAIM_AMOUNT     0\n",
       "HOSP_NAME        0\n",
       "HOSP_TYPE        0\n",
       "HOSP_LOCATION    0\n",
       "SURGERY_DATE     0\n",
       "dtype: int64"
      ]
     },
     "execution_count": 14,
     "metadata": {},
     "output_type": "execute_result"
    }
   ],
   "source": [
    "clean_data.isna().sum()"
   ]
  },
  {
   "cell_type": "code",
   "execution_count": 15,
   "id": "2f3bd7b8-7139-43fe-a977-cd015fc2f1c6",
   "metadata": {
    "tags": []
   },
   "outputs": [
    {
     "data": {
      "text/plain": [
       "(479688, 13)"
      ]
     },
     "execution_count": 15,
     "metadata": {},
     "output_type": "execute_result"
    }
   ],
   "source": [
    "clean_data.shape"
   ]
  },
  {
   "cell_type": "code",
   "execution_count": 16,
   "id": "45af2cb8-f5a3-46b2-acb4-eafd0113c02f",
   "metadata": {
    "tags": []
   },
   "outputs": [
    {
     "data": {
      "text/plain": [
       "AGE               int64\n",
       "SEX              object\n",
       "CASTE_NAME       object\n",
       "CATEGORY_NAME    object\n",
       "SURGERY          object\n",
       "PREAUTH_DATE     object\n",
       "PREAUTH_AMT       int64\n",
       "CLAIM_DATE       object\n",
       "CLAIM_AMOUNT      int64\n",
       "HOSP_NAME        object\n",
       "HOSP_TYPE        object\n",
       "HOSP_LOCATION    object\n",
       "SURGERY_DATE     object\n",
       "dtype: object"
      ]
     },
     "execution_count": 16,
     "metadata": {},
     "output_type": "execute_result"
    }
   ],
   "source": [
    "clean_data.dtypes"
   ]
  },
  {
   "cell_type": "code",
   "execution_count": 17,
   "id": "58cd6d1d-b8bd-4849-85d2-ae2087b57206",
   "metadata": {
    "tags": []
   },
   "outputs": [
    {
     "data": {
      "text/plain": [
       "AGE                 102\n",
       "SEX                   6\n",
       "CASTE_NAME            6\n",
       "CATEGORY_NAME        29\n",
       "SURGERY             923\n",
       "PREAUTH_DATE     451607\n",
       "PREAUTH_AMT        2007\n",
       "CLAIM_DATE       111513\n",
       "CLAIM_AMOUNT      11465\n",
       "HOSP_NAME           467\n",
       "HOSP_TYPE             2\n",
       "HOSP_LOCATION        61\n",
       "SURGERY_DATE        937\n",
       "dtype: int64"
      ]
     },
     "execution_count": 17,
     "metadata": {},
     "output_type": "execute_result"
    }
   ],
   "source": [
    "clean_data.nunique()"
   ]
  },
  {
   "cell_type": "code",
   "execution_count": 18,
   "id": "e4879eb4-b4ef-4009-978e-d8316a69ddf7",
   "metadata": {
    "tags": []
   },
   "outputs": [
    {
     "data": {
      "text/plain": [
       "array(['Female', 'Male', 'Male(Child)', 'Female(Child)', 'FEMALE', 'MALE'],\n",
       "      dtype=object)"
      ]
     },
     "execution_count": 18,
     "metadata": {},
     "output_type": "execute_result"
    }
   ],
   "source": [
    "clean_data[\"SEX\"].unique()"
   ]
  },
  {
   "cell_type": "code",
   "execution_count": 19,
   "id": "64e6b101-f3bd-43b0-8767-70d076437dcb",
   "metadata": {
    "tags": []
   },
   "outputs": [],
   "source": [
    "clean_data = clean_data.apply(lambda x: x.str.lower() if x.dtypes == object else x)"
   ]
  },
  {
   "cell_type": "code",
   "execution_count": 20,
   "id": "9ac27de1-f31e-4ffe-bceb-09e8d34f3fce",
   "metadata": {
    "tags": []
   },
   "outputs": [
    {
     "data": {
      "text/plain": [
       "AGE                 102\n",
       "SEX                   4\n",
       "CASTE_NAME            6\n",
       "CATEGORY_NAME        29\n",
       "SURGERY             923\n",
       "PREAUTH_DATE     451607\n",
       "PREAUTH_AMT        2007\n",
       "CLAIM_DATE       111513\n",
       "CLAIM_AMOUNT      11465\n",
       "HOSP_NAME           465\n",
       "HOSP_TYPE             2\n",
       "HOSP_LOCATION        49\n",
       "SURGERY_DATE        937\n",
       "dtype: int64"
      ]
     },
     "execution_count": 20,
     "metadata": {},
     "output_type": "execute_result"
    }
   ],
   "source": [
    "clean_data.nunique()"
   ]
  },
  {
   "cell_type": "code",
   "execution_count": 21,
   "id": "a9fc97f3-bd12-4203-a187-5cad518063de",
   "metadata": {
    "tags": []
   },
   "outputs": [
    {
     "data": {
      "text/plain": [
       "0         female\n",
       "1           male\n",
       "2           male\n",
       "3           male\n",
       "4           male\n",
       "           ...  \n",
       "479683    female\n",
       "479684      male\n",
       "479685      male\n",
       "479686      male\n",
       "479687      male\n",
       "Name: SEX, Length: 479688, dtype: object"
      ]
     },
     "execution_count": 21,
     "metadata": {},
     "output_type": "execute_result"
    }
   ],
   "source": [
    "clean_data[\"SEX\"]"
   ]
  },
  {
   "cell_type": "markdown",
   "id": "6e389238-c0a5-47e4-8855-a73cc684d270",
   "metadata": {
    "tags": []
   },
   "source": [
    "## Process Data"
   ]
  },
  {
   "cell_type": "code",
   "execution_count": 22,
   "id": "e8bd1e07-0793-419d-bc21-0ca8e9464e0e",
   "metadata": {
    "tags": []
   },
   "outputs": [],
   "source": [
    "OrdinalEncoder = OrdinalEncoder()\n",
    "\n",
    "column2encode = [\"SEX\",\"CASTE_NAME\",\"HOSP_TYPE\"]\n",
    "\n",
    "o_data= clean_data.copy()\n",
    "\n",
    "o_data[column2encode] = OrdinalEncoder.fit_transform(clean_data[column2encode])"
   ]
  },
  {
   "cell_type": "code",
   "execution_count": 23,
   "id": "6cd1c905-984b-4da2-8773-80c43f43fb81",
   "metadata": {
    "tags": []
   },
   "outputs": [],
   "source": [
    "# Frequency encoding\n",
    "\n",
    "freq_cat = (o_data.groupby(\"CATEGORY_NAME\").size())/ len(o_data[\"CATEGORY_NAME\"])\n",
    "freq_sur = (o_data.groupby(\"SURGERY\").size())/ len(o_data[\"SURGERY\"])\n",
    "freq_loc = (o_data.groupby(\"HOSP_LOCATION\").size())/ len(o_data[\"HOSP_LOCATION\"])\n",
    "freq_name = (o_data.groupby(\"HOSP_NAME\").size())/ len(o_data[\"HOSP_NAME\"])\n"
   ]
  },
  {
   "cell_type": "code",
   "execution_count": 24,
   "id": "16774888-75a2-47bb-8d2d-fbdd046e7190",
   "metadata": {
    "tags": []
   },
   "outputs": [],
   "source": [
    "o_data[\"freq_surgery_cathegory\"] = o_data[\"CATEGORY_NAME\"].apply(lambda x: freq_cat[x])\n",
    "o_data[\"freq_surgery\"] = o_data[\"SURGERY\"].apply(lambda x: freq_sur[x])\n",
    "o_data[\"freq_hosp_location\"] = o_data[\"HOSP_LOCATION\"].apply(lambda x: freq_loc[x]) \n",
    "o_data[\"freq_hosp_name\"] = o_data[\"HOSP_NAME\"].apply(lambda x: freq_name[x])\n",
    "\n",
    "dr = [\"CATEGORY_NAME\",\"SURGERY\",\"HOSP_NAME\",\"HOSP_LOCATION\",\"PREAUTH_DATE\",\"CLAIM_DATE\",\"SURGERY_DATE\"]\n",
    "\n",
    "o_data = o_data.drop(columns = dr)"
   ]
  },
  {
   "cell_type": "code",
   "execution_count": 25,
   "id": "05952987-92f7-4ff7-bf3a-dd39feb8691d",
   "metadata": {
    "tags": []
   },
   "outputs": [
    {
     "data": {
      "text/html": [
       "<div>\n",
       "<style scoped>\n",
       "    .dataframe tbody tr th:only-of-type {\n",
       "        vertical-align: middle;\n",
       "    }\n",
       "\n",
       "    .dataframe tbody tr th {\n",
       "        vertical-align: top;\n",
       "    }\n",
       "\n",
       "    .dataframe thead th {\n",
       "        text-align: right;\n",
       "    }\n",
       "</style>\n",
       "<table border=\"1\" class=\"dataframe\">\n",
       "  <thead>\n",
       "    <tr style=\"text-align: right;\">\n",
       "      <th></th>\n",
       "      <th>AGE</th>\n",
       "      <th>SEX</th>\n",
       "      <th>CASTE_NAME</th>\n",
       "      <th>PREAUTH_AMT</th>\n",
       "      <th>CLAIM_AMOUNT</th>\n",
       "      <th>HOSP_TYPE</th>\n",
       "      <th>freq_surgery_cathegory</th>\n",
       "      <th>freq_surgery</th>\n",
       "      <th>freq_hosp_location</th>\n",
       "      <th>freq_hosp_name</th>\n",
       "    </tr>\n",
       "  </thead>\n",
       "  <tbody>\n",
       "    <tr>\n",
       "      <th>0</th>\n",
       "      <td>56</td>\n",
       "      <td>0.0</td>\n",
       "      <td>0.0</td>\n",
       "      <td>12500</td>\n",
       "      <td>11000</td>\n",
       "      <td>1.0</td>\n",
       "      <td>0.156241</td>\n",
       "      <td>0.136293</td>\n",
       "      <td>0.033641</td>\n",
       "      <td>0.005397</td>\n",
       "    </tr>\n",
       "    <tr>\n",
       "      <th>1</th>\n",
       "      <td>37</td>\n",
       "      <td>2.0</td>\n",
       "      <td>0.0</td>\n",
       "      <td>12500</td>\n",
       "      <td>11000</td>\n",
       "      <td>1.0</td>\n",
       "      <td>0.156241</td>\n",
       "      <td>0.136293</td>\n",
       "      <td>0.033641</td>\n",
       "      <td>0.005397</td>\n",
       "    </tr>\n",
       "    <tr>\n",
       "      <th>2</th>\n",
       "      <td>50</td>\n",
       "      <td>2.0</td>\n",
       "      <td>0.0</td>\n",
       "      <td>12500</td>\n",
       "      <td>11500</td>\n",
       "      <td>1.0</td>\n",
       "      <td>0.156241</td>\n",
       "      <td>0.136293</td>\n",
       "      <td>0.033641</td>\n",
       "      <td>0.005397</td>\n",
       "    </tr>\n",
       "    <tr>\n",
       "      <th>3</th>\n",
       "      <td>45</td>\n",
       "      <td>2.0</td>\n",
       "      <td>0.0</td>\n",
       "      <td>12500</td>\n",
       "      <td>11000</td>\n",
       "      <td>1.0</td>\n",
       "      <td>0.156241</td>\n",
       "      <td>0.136293</td>\n",
       "      <td>0.033641</td>\n",
       "      <td>0.005397</td>\n",
       "    </tr>\n",
       "    <tr>\n",
       "      <th>4</th>\n",
       "      <td>54</td>\n",
       "      <td>2.0</td>\n",
       "      <td>0.0</td>\n",
       "      <td>12500</td>\n",
       "      <td>11000</td>\n",
       "      <td>1.0</td>\n",
       "      <td>0.156241</td>\n",
       "      <td>0.136293</td>\n",
       "      <td>0.033641</td>\n",
       "      <td>0.005397</td>\n",
       "    </tr>\n",
       "  </tbody>\n",
       "</table>\n",
       "</div>"
      ],
      "text/plain": [
       "   AGE  SEX  CASTE_NAME  PREAUTH_AMT  CLAIM_AMOUNT  HOSP_TYPE   \n",
       "0   56  0.0         0.0        12500         11000        1.0  \\\n",
       "1   37  2.0         0.0        12500         11000        1.0   \n",
       "2   50  2.0         0.0        12500         11500        1.0   \n",
       "3   45  2.0         0.0        12500         11000        1.0   \n",
       "4   54  2.0         0.0        12500         11000        1.0   \n",
       "\n",
       "   freq_surgery_cathegory  freq_surgery  freq_hosp_location  freq_hosp_name  \n",
       "0                0.156241      0.136293            0.033641        0.005397  \n",
       "1                0.156241      0.136293            0.033641        0.005397  \n",
       "2                0.156241      0.136293            0.033641        0.005397  \n",
       "3                0.156241      0.136293            0.033641        0.005397  \n",
       "4                0.156241      0.136293            0.033641        0.005397  "
      ]
     },
     "execution_count": 25,
     "metadata": {},
     "output_type": "execute_result"
    }
   ],
   "source": [
    "o_data.head()"
   ]
  },
  {
   "cell_type": "code",
   "execution_count": 26,
   "id": "648407f1-2cc8-4027-898d-a09ac862d135",
   "metadata": {
    "tags": []
   },
   "outputs": [
    {
     "data": {
      "text/plain": [
       "AGE                         int64\n",
       "SEX                       float64\n",
       "CASTE_NAME                float64\n",
       "PREAUTH_AMT                 int64\n",
       "CLAIM_AMOUNT                int64\n",
       "HOSP_TYPE                 float64\n",
       "freq_surgery_cathegory    float64\n",
       "freq_surgery              float64\n",
       "freq_hosp_location        float64\n",
       "freq_hosp_name            float64\n",
       "dtype: object"
      ]
     },
     "execution_count": 26,
     "metadata": {},
     "output_type": "execute_result"
    }
   ],
   "source": [
    "o_data.dtypes"
   ]
  },
  {
   "cell_type": "code",
   "execution_count": 27,
   "id": "0d7686fb-6d88-4e30-8ba5-cad876fd68e7",
   "metadata": {},
   "outputs": [
    {
     "data": {
      "text/plain": [
       "'\\no_data -> for price prediction\\nclean_data -> for analysis \\n'"
      ]
     },
     "execution_count": 27,
     "metadata": {},
     "output_type": "execute_result"
    }
   ],
   "source": [
    "'''\n",
    "o_data -> for price prediction\n",
    "clean_data -> for analysis \n",
    "'''"
   ]
  },
  {
   "cell_type": "markdown",
   "id": "98e358e9-c52a-45eb-a2a2-63b20f7e1e89",
   "metadata": {},
   "source": [
    "## Visualize and Analyze"
   ]
  },
  {
   "cell_type": "markdown",
   "id": "dfc4ca34-5b73-45ff-98c5-e7ba20fcb124",
   "metadata": {},
   "source": [
    "### Make groups"
   ]
  },
  {
   "cell_type": "code",
   "execution_count": 34,
   "id": "1776a557-2be0-4a39-bcf1-7f75aed812b1",
   "metadata": {
    "tags": []
   },
   "outputs": [
    {
     "data": {
      "image/png": "[encoded data removed]",
      "text/plain": [
       "<Figure size 1000x1800 with 3 Axes>"
      ]
     },
     "metadata": {},
     "output_type": "display_data"
    }
   ],
   "source": [
    "# Create the subplots\n",
    "fig, ax = plt.subplots(3, 1, figsize=(10, 18))\n",
    "\n",
    "total_hosp = clean_data.groupby([\"HOSP_NAME\"]).size().reset_index(name=\"counts\")\n",
    "topten = total_hosp.sort_values(\"counts\", ascending=False).head(10)\n",
    "total_type = clean_data.groupby([\"HOSP_TYPE\"]).size().reset_index(name=\"counts\")\n",
    "ages = clean_data.groupby([\"AGE\"]).size().reset_index(name=\"Patient_size\")\n",
    "\n",
    "clean_data[\"SEX_n\"] = clean_data[\"SEX\"].apply(lambda x: \"male\" if x == \"male(child)\" else (\"female\" if x == \"female(child)\" else x))\n",
    "\n",
    "# First plot\n",
    "ax[0].barh(y=topten[\"HOSP_NAME\"], width=topten[\"counts\"])\n",
    "\n",
    "# Second plot\n",
    "ax[1].bar(x=total_type[\"HOSP_TYPE\"], height=total_type[\"counts\"])\n",
    "\n",
    "# Third plot (using seaborn)\n",
    "sns.scatterplot(x=ages[\"AGE\"], y=ages[\"Patient_size\"], hue=clean_data[\"SEX_n\"], ax=ax[2])\n",
    "\n",
    "# Adjust the layout to separate the plots vertically\n",
    "plt.subplots_adjust(hspace=0.5)\n",
    "\n",
    "plt.show()\n"
   ]
  },
  {
   "cell_type": "code",
   "execution_count": 38,
   "id": "2b74d4f7-f5d8-4912-aa82-d88c1fee939b",
   "metadata": {
    "tags": []
   },
   "outputs": [
    {
     "data": {
      "text/plain": [
       "SEX_n\n",
       "male      285795\n",
       "female    193893\n",
       "Name: count, dtype: int64"
      ]
     },
     "execution_count": 38,
     "metadata": {},
     "output_type": "execute_result"
    }
   ],
   "source": [
    "clean_data.SEX_n.value_counts()"
   ]
  },
  {
   "cell_type": "code",
   "execution_count": 41,
   "id": "26256689-fce2-4364-9847-f678f58f7447",
   "metadata": {
    "tags": []
   },
   "outputs": [
    {
     "data": {
      "image/png": "[encoded data removed]",
      "text/plain": [
       "<Figure size 640x480 with 1 Axes>"
      ]
     },
     "metadata": {},
     "output_type": "display_data"
    }
   ],
   "source": [
    "fig, x = plt.subplots()\n",
    "\n",
    "_ = x.pie(x = clean_data.SEX_n.value_counts(), labels = [\"Male\",\"Female\"], autopct='%1.1f%%',\n",
    "           colors=plt.cm.Pastel2(range(80)))\n",
    "\n",
    "x.set_title(\"Patients Taking Healthcare\", size = 16)\n",
    "\n",
    "plt.tight_layout()\n",
    "plt.show()"
   ]
  },
  {
   "cell_type": "code",
   "execution_count": null,
   "id": "f1309224-b5de-4431-8ebe-5acd7df4a23c",
   "metadata": {},
   "outputs": [],
   "source": []
  }
 ],
 "metadata": {
  "kernelspec": {
   "display_name": "Python 3 (ipykernel)",
   "language": "python",
   "name": "python3"
  },
  "language_info": {
   "codemirror_mode": {
    "name": "ipython",
    "version": 3
   },
   "file_extension": ".py",
   "mimetype": "text/x-python",
   "name": "python",
   "nbconvert_exporter": "python",
   "pygments_lexer": "ipython3",
   "version": "3.11.3"
  }
 },
 "nbformat": 4,
 "nbformat_minor": 5
}
